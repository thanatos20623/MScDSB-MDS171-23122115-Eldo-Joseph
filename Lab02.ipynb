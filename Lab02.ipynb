{
 "cells": [
  {
   "cell_type": "markdown",
   "metadata": {},
   "source": [
    "In the vibrant realm of Digiterra, there lived a princess named Alice; Alice is fascinated with recording numbers, which she asks as she meets new people when she moves around. Alice used to save the numbers in the following form"
   ]
  },
  {
   "cell_type": "code",
   "execution_count": 9,
   "metadata": {},
   "outputs": [
    {
     "ename": "IndexError",
     "evalue": "string index out of range",
     "output_type": "error",
     "traceback": [
      "\u001b[1;31m---------------------------------------------------------------------------\u001b[0m",
      "\u001b[1;31mIndexError\u001b[0m                                Traceback (most recent call last)",
      "\u001b[1;32mc:\\Users\\Eldo\\Desktop\\python\\MScDSB-MDS171-23122115-Eldo-Joseph\\Lab02.ipynb Cell 2\u001b[0m line \u001b[0;36m2\n\u001b[0;32m     <a href='vscode-notebook-cell:/c%3A/Users/Eldo/Desktop/python/MScDSB-MDS171-23122115-Eldo-Joseph/Lab02.ipynb#W1sZmlsZQ%3D%3D?line=25'>26</a>\u001b[0m             \u001b[39mstr\u001b[39m\u001b[39m=\u001b[39m \u001b[39mstr\u001b[39m \u001b[39m+\u001b[39m\u001b[39m\"\u001b[39m\u001b[39mNine\u001b[39m\u001b[39m\"\u001b[39m\n\u001b[0;32m     <a href='vscode-notebook-cell:/c%3A/Users/Eldo/Desktop/python/MScDSB-MDS171-23122115-Eldo-Joseph/Lab02.ipynb#W1sZmlsZQ%3D%3D?line=26'>27</a>\u001b[0m     \u001b[39mreturn\u001b[39;00m \u001b[39mstr\u001b[39m\n\u001b[1;32m---> <a href='vscode-notebook-cell:/c%3A/Users/Eldo/Desktop/python/MScDSB-MDS171-23122115-Eldo-Joseph/Lab02.ipynb#W1sZmlsZQ%3D%3D?line=27'>28</a>\u001b[0m digit(val,n)\n",
      "\u001b[1;32mc:\\Users\\Eldo\\Desktop\\python\\MScDSB-MDS171-23122115-Eldo-Joseph\\Lab02.ipynb Cell 2\u001b[0m line \u001b[0;36m7\n\u001b[0;32m      <a href='vscode-notebook-cell:/c%3A/Users/Eldo/Desktop/python/MScDSB-MDS171-23122115-Eldo-Joseph/Lab02.ipynb#W1sZmlsZQ%3D%3D?line=4'>5</a>\u001b[0m \u001b[39mstr\u001b[39m \u001b[39m=\u001b[39m val\n\u001b[0;32m      <a href='vscode-notebook-cell:/c%3A/Users/Eldo/Desktop/python/MScDSB-MDS171-23122115-Eldo-Joseph/Lab02.ipynb#W1sZmlsZQ%3D%3D?line=5'>6</a>\u001b[0m \u001b[39mfor\u001b[39;00m i \u001b[39min\u001b[39;00m \u001b[39mrange\u001b[39m(\u001b[39m0\u001b[39m,n):\n\u001b[1;32m----> <a href='vscode-notebook-cell:/c%3A/Users/Eldo/Desktop/python/MScDSB-MDS171-23122115-Eldo-Joseph/Lab02.ipynb#W1sZmlsZQ%3D%3D?line=6'>7</a>\u001b[0m     \u001b[39mif\u001b[39;00m val[i] \u001b[39m==\u001b[39m\u001b[39m'\u001b[39m\u001b[39m0\u001b[39m\u001b[39m'\u001b[39m:\n\u001b[0;32m      <a href='vscode-notebook-cell:/c%3A/Users/Eldo/Desktop/python/MScDSB-MDS171-23122115-Eldo-Joseph/Lab02.ipynb#W1sZmlsZQ%3D%3D?line=7'>8</a>\u001b[0m         \u001b[39mstr\u001b[39m\u001b[39m=\u001b[39m \u001b[39mstr\u001b[39m \u001b[39m+\u001b[39m\u001b[39m\"\u001b[39m\u001b[39mZero\u001b[39m\u001b[39m\"\u001b[39m\n\u001b[0;32m      <a href='vscode-notebook-cell:/c%3A/Users/Eldo/Desktop/python/MScDSB-MDS171-23122115-Eldo-Joseph/Lab02.ipynb#W1sZmlsZQ%3D%3D?line=8'>9</a>\u001b[0m     \u001b[39melif\u001b[39;00m val[i] \u001b[39m==\u001b[39m\u001b[39m'\u001b[39m\u001b[39m1\u001b[39m\u001b[39m'\u001b[39m:\n",
      "\u001b[1;31mIndexError\u001b[0m: string index out of range"
     ]
    }
   ],
   "source": [
    "n = int(input(\"Number of digits\"))\n",
    "val = str(input(\"Enter the number\"))\n",
    "\n",
    "def digit(val,n):\n",
    "    str = val\n",
    "    for i in range(0,n):\n",
    "        if val[i] =='0':\n",
    "            str= str +\"Zero\"\n",
    "        elif val[i] =='1':\n",
    "            str= str +\"One\"\n",
    "        elif val[i] =='2':\n",
    "            str= str +\"Two\"\n",
    "        elif val[i] =='3':\n",
    "            str= str +\"Three\"\n",
    "        elif val[i] =='4':\n",
    "            str= str +\"Four\"\n",
    "        elif val[i] =='5':\n",
    "            str= str +\"Five\"\n",
    "        elif val[i] =='6':\n",
    "            str= str +\"Six\"\n",
    "        elif val[i] =='7':\n",
    "            str= str +\"Seven\"\n",
    "        elif val[i] =='8':\n",
    "            str= str +\"Eight\"\n",
    "        else:\n",
    "            str= str +\"Nine\"\n",
    "    return str\n",
    "digit(val,n)"
   ]
  },
  {
   "cell_type": "code",
   "execution_count": null,
   "metadata": {},
   "outputs": [],
   "source": []
  }
 ],
 "metadata": {
  "kernelspec": {
   "display_name": "Python 3",
   "language": "python",
   "name": "python3"
  },
  "language_info": {
   "codemirror_mode": {
    "name": "ipython",
    "version": 3
   },
   "file_extension": ".py",
   "mimetype": "text/x-python",
   "name": "python",
   "nbconvert_exporter": "python",
   "pygments_lexer": "ipython3",
   "version": "3.11.5"
  },
  "orig_nbformat": 4
 },
 "nbformat": 4,
 "nbformat_minor": 2
}

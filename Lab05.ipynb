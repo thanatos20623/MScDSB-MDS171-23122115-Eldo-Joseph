{
 "cells": [
  {
   "cell_type": "code",
   "execution_count": null,
   "metadata": {},
   "outputs": [],
   "source": [
    "YourString = input(\"enter the string :\")\n",
    "count = 0\n",
    "for i in YourString:\n",
    "    if i == 'a':\n",
    "        count += 1\n",
    "    elif i == 'e':\n",
    "        count += 1\n",
    "    elif i == 'i':\n",
    "        count += 1\n",
    "    elif i == 'o':\n",
    "        count += 1\n",
    "    elif i == 'u':\n",
    "        count += 1\n",
    "    #if i == 1:\n",
    "    print(count,i)\n",
    "\n",
    "    #percent = YourString*count/100\n",
    "    \n",
    "    \n",
    "    #print(percent)"
   ]
  }
 ],
 "metadata": {
  "language_info": {
   "name": "python"
  },
  "orig_nbformat": 4
 },
 "nbformat": 4,
 "nbformat_minor": 2
}
